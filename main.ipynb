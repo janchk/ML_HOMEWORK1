{
 "cells": [
  {
   "cell_type": "code",
   "execution_count": 1,
   "metadata": {
    "collapsed": true,
    "pycharm": {
     "is_executing": false
    }
   },
   "outputs": [],
   "source": [
    "# Colab settings\n",
    "# !wget --header=\"Host: archive.ics.uci.edu\" --header=\"User-Agent: Mozilla/5.0 (X11; Linux x86_64) AppleWebKit/537.36 (KHTML, like Gecko) Chrome/79.0.3945.88 Safari/537.36\" --header=\"Accept: text/html,application/xhtml+xml,application/xml;q=0.9,image/webp,image/apng,*/*;q=0.8,application/signed-exchange;v=b3;q=0.9\" --header=\"Accept-Language: ru-RU,ru;q=0.9,en-US;q=0.8,en;q=0.7\" --header=\"Referer: https://archive.ics.uci.edu/ml/machine-learning-databases/00363/\" \"https://archive.ics.uci.edu/ml/machine-learning-databases/00363/Dataset.zip\" -O \"Dataset.zip\" -c\n",
    "# !unzip Dataset.zip\n",
    "# !git clone https://github.com/janchk/ML_HOMEWORK1\n",
    "# from ML_HOMEWORK_1.src.models import LinearRegressionWithGd\n",
    "# from ML_HOMEWORK_1.src.common import *"
   ]
  },
  {
   "cell_type": "code",
   "execution_count": 2,
   "outputs": [],
   "source": [
    "#import part \n",
    "import matplotlib.pyplot as plt\n",
    "from IPython import display\n",
    "from src.models import LinearRegressionWithGd\n",
    "from src.common import *\n",
    "import pandas as pd\n",
    "path = \"../Dataset/Training/\""
   ],
   "metadata": {
    "collapsed": false,
    "pycharm": {
     "name": "#%%\n",
     "is_executing": false
    }
   }
  },
  {
   "cell_type": "code",
   "execution_count": 3,
   "outputs": [],
   "source": [
    "# configuration\n",
    "num_folds = 5\n",
    "epochs = 1000\n",
    "learning_rate = 0.1\n",
    "\n",
    "lrg = LinearRegressionWithGd()\n",
    "lrg.learning_rate = learning_rate\n",
    "\n",
    "df_1, df_2 = folding(path)\n",
    "np.random.shuffle(df_1)"
   ],
   "metadata": {
    "collapsed": false,
    "pycharm": {
     "name": "#%%\n",
     "is_executing": false
    }
   }
  },
  {
   "cell_type": "markdown",
   "source": [
    "### Training"
   ],
   "metadata": {
    "collapsed": false
   }
  },
  {
   "cell_type": "code",
   "execution_count": 4,
   "outputs": [
    {
     "traceback": [
      "\u001b[0;31m---------------------------------------------------------------------------\u001b[0m",
      "\u001b[0;31mTypeError\u001b[0m                                 Traceback (most recent call last)",
      "\u001b[0;32m<ipython-input-4-2811451e5160>\u001b[0m in \u001b[0;36m<module>\u001b[0;34m\u001b[0m\n\u001b[1;32m      6\u001b[0m     \u001b[0mtrain\u001b[0m\u001b[0;34m,\u001b[0m \u001b[0mtest\u001b[0m \u001b[0;34m=\u001b[0m \u001b[0mcv_loo\u001b[0m\u001b[0;34m(\u001b[0m\u001b[0mdf_1\u001b[0m\u001b[0;34m,\u001b[0m \u001b[0mnum_folds\u001b[0m\u001b[0;34m,\u001b[0m \u001b[0mi\u001b[0m\u001b[0;34m)\u001b[0m\u001b[0;34m\u001b[0m\u001b[0;34m\u001b[0m\u001b[0m\n\u001b[1;32m      7\u001b[0m \u001b[0;34m\u001b[0m\u001b[0m\n\u001b[0;32m----> 8\u001b[0;31m     \u001b[0mX_train\u001b[0m \u001b[0;34m=\u001b[0m \u001b[0mnormalized\u001b[0m\u001b[0;34m(\u001b[0m\u001b[0mtrain\u001b[0m\u001b[0;34m.\u001b[0m\u001b[0mT\u001b[0m\u001b[0;34m[\u001b[0m\u001b[0;36m0\u001b[0m\u001b[0;34m:\u001b[0m\u001b[0;36m53\u001b[0m\u001b[0;34m]\u001b[0m\u001b[0;34m)\u001b[0m\u001b[0;34m.\u001b[0m\u001b[0mT\u001b[0m\u001b[0;34m\u001b[0m\u001b[0;34m\u001b[0m\u001b[0m\n\u001b[0m\u001b[1;32m      9\u001b[0m     \u001b[0mX_test\u001b[0m \u001b[0;34m=\u001b[0m \u001b[0mnormalized\u001b[0m\u001b[0;34m(\u001b[0m\u001b[0mtest\u001b[0m\u001b[0;34m.\u001b[0m\u001b[0mT\u001b[0m\u001b[0;34m[\u001b[0m\u001b[0;36m0\u001b[0m\u001b[0;34m:\u001b[0m\u001b[0;36m53\u001b[0m\u001b[0;34m]\u001b[0m\u001b[0;34m)\u001b[0m\u001b[0;34m.\u001b[0m\u001b[0mT\u001b[0m\u001b[0;34m\u001b[0m\u001b[0;34m\u001b[0m\u001b[0m\n\u001b[1;32m     10\u001b[0m \u001b[0;34m\u001b[0m\u001b[0m\n",
      "\u001b[0;32m~/Documents/code/ML_HOMEWORK_1/src/common.py\u001b[0m in \u001b[0;36mnormalized\u001b[0;34m(a)\u001b[0m\n\u001b[1;32m     19\u001b[0m     \u001b[0mmean\u001b[0m \u001b[0;34m=\u001b[0m \u001b[0mnp\u001b[0m\u001b[0;34m.\u001b[0m\u001b[0mmean\u001b[0m\u001b[0;34m(\u001b[0m\u001b[0ma\u001b[0m\u001b[0;34m)\u001b[0m\u001b[0;34m\u001b[0m\u001b[0;34m\u001b[0m\u001b[0m\n\u001b[1;32m     20\u001b[0m     \u001b[0mstd\u001b[0m \u001b[0;34m=\u001b[0m \u001b[0mnp\u001b[0m\u001b[0;34m.\u001b[0m\u001b[0mstd\u001b[0m\u001b[0;34m(\u001b[0m\u001b[0ma\u001b[0m\u001b[0;34m)\u001b[0m\u001b[0;34m\u001b[0m\u001b[0;34m\u001b[0m\u001b[0m\n\u001b[0;32m---> 21\u001b[0;31m     \u001b[0mstd\u001b[0m\u001b[0;34m[\u001b[0m\u001b[0mstd\u001b[0m \u001b[0;34m==\u001b[0m \u001b[0;36m0\u001b[0m\u001b[0;34m]\u001b[0m \u001b[0;34m=\u001b[0m \u001b[0;36m1\u001b[0m\u001b[0;34m\u001b[0m\u001b[0;34m\u001b[0m\u001b[0m\n\u001b[0m\u001b[1;32m     22\u001b[0m     \u001b[0;32mreturn\u001b[0m \u001b[0;34m(\u001b[0m\u001b[0ma\u001b[0m \u001b[0;34m-\u001b[0m \u001b[0mmean\u001b[0m\u001b[0;34m)\u001b[0m \u001b[0;34m/\u001b[0m \u001b[0mstd\u001b[0m\u001b[0;34m\u001b[0m\u001b[0;34m\u001b[0m\u001b[0m\n\u001b[1;32m     23\u001b[0m \u001b[0;34m\u001b[0m\u001b[0m\n",
      "\u001b[0;31mTypeError\u001b[0m: 'numpy.float64' object does not support item assignment"
     ],
     "ename": "TypeError",
     "evalue": "'numpy.float64' object does not support item assignment",
     "output_type": "error"
    }
   ],
   "source": [
    "features = []\n",
    "bias = []\n",
    "stats = []\n",
    "losses = [] #loss per fold\n",
    "for i in range(num_folds):\n",
    "    train, test = cv_loo(df_1, num_folds, i)\n",
    "\n",
    "    X_train = normalized(train.T[0:53]).T\n",
    "    X_test = normalized(test.T[0:53]).T\n",
    "\n",
    "    Y_train = train.T[53].T\n",
    "    Y_train = np.expand_dims(Y_train, axis=-1)\n",
    "\n",
    "    Y_test = test.T[53].T\n",
    "    Y_test = np.expand_dims(Y_test, axis=-1)\n",
    "\n",
    "    loss = lrg.train(epochs, X_train, Y_train)\n",
    "    stat = lrg.validate(X_test, Y_test)\n",
    "    losses.append(loss)\n",
    "    stats.append(stat)\n",
    "    features.append(lrg.betas)\n",
    "    bias.append(*lrg.bias)\n",
    "    \n",
    "\n",
    "mean_stats = np.sum(stats, axis=0) / num_folds\n",
    "print(\"mse_val is {}, r2_val is {}, rmse is {}, r2/rmse {}\".format(\n",
    "    mean_stats[0], mean_stats[1], mean_stats[2], mean_stats[3]))\n"
   ],
   "metadata": {
    "collapsed": false,
    "pycharm": {
     "name": "#%%\n",
     "is_executing": false
    }
   }
  },
  {
   "cell_type": "markdown",
   "source": [
    "### Features"
   ],
   "metadata": {
    "collapsed": false
   }
  },
  {
   "cell_type": "code",
   "execution_count": null,
   "outputs": [],
   "source": [
    "columns = [\"bias\"] + [f\"f{f+1}\" for f in range(len(features[0]))]\n",
    "index = [f\"Fold {i+1}\" for i, _ in enumerate(features)] + [\"mean\"] + [\"std\"]\n",
    "\n",
    "bias_np = np.expand_dims(np.squeeze(bias), 1)\n",
    "features_np = np.squeeze(features, axis=2)\n",
    "features_np = np.hstack((bias, features_np))\n",
    "features_mean = np.mean(features_np, axis=0)\n",
    "features_std = np.std(features_np, axis=0)\n",
    "df = pd.DataFrame(np.vstack((features_np, features_mean, features_std )),\n",
    "                  columns=columns,\n",
    "                  index=index)\n",
    "\n",
    "display.display(df)    "
   ],
   "metadata": {
    "collapsed": false,
    "pycharm": {
     "name": "#%%\n",
     "is_executing": false
    }
   }
  },
  {
   "cell_type": "markdown",
   "source": [
    "### Stats"
   ],
   "metadata": {
    "collapsed": false,
    "pycharm": {
     "name": "#%% md\n"
    }
   }
  },
  {
   "cell_type": "code",
   "execution_count": null,
   "outputs": [],
   "source": [
    "stats_np = np.array(stats)\n",
    "losses_np = np.expand_dims(np.array(losses), 1)\n",
    "columns = [\"mse_train\"] + [\"mse_val\"] + [\"r2_val\"] + [\"rmse_val\"] + [\"r2/rmse_val\"]\n",
    "index = [f\"Fold {i+1}\" for i, _ in enumerate(stats_np)] # + [\"mean\"] + [\"std\"]\n",
    "all_stats = np.hstack((losses_np, stats_np))\n",
    "df = pd.DataFrame(all_stats,\n",
    "                  columns=columns,\n",
    "                  index=index)\n",
    "\n",
    "display.display(df) "
   ],
   "metadata": {
    "collapsed": false,
    "pycharm": {
     "name": "#%%\n",
     "is_executing": false
    }
   }
  },
  {
   "cell_type": "markdown",
   "source": [
    "MD\n"
   ],
   "metadata": {
    "collapsed": false
   }
  }
 ],
 "metadata": {
  "kernelspec": {
   "display_name": "Python 3",
   "language": "python",
   "name": "python3"
  },
  "language_info": {
   "codemirror_mode": {
    "name": "ipython",
    "version": 2
   },
   "file_extension": ".py",
   "mimetype": "text/x-python",
   "name": "python",
   "nbconvert_exporter": "python",
   "pygments_lexer": "ipython2",
   "version": "2.7.6"
  },
  "pycharm": {
   "stem_cell": {
    "cell_type": "raw",
    "source": [],
    "metadata": {
     "collapsed": false
    }
   }
  }
 },
 "nbformat": 4,
 "nbformat_minor": 0
}